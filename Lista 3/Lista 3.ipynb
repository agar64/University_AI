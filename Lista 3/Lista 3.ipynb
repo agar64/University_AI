{
 "cells": [
  {
   "cell_type": "markdown",
   "id": "b8eb981c-9012-48a2-a356-aff7d28b7b01",
   "metadata": {},
   "source": [
    "## Inteligência Artificial - Lista 03\n",
    "### Douglas Gaspar Feitosa Freitas - 473552"
   ]
  },
  {
   "cell_type": "markdown",
   "id": "32eb2308-f781-49d0-84e2-69dd958f2d0b",
   "metadata": {},
   "source": [
    "#### Questão 01\n",
    "##### Deseja-se obter o modelo de regessão linear para os seguintes dados: *dados*\n",
    "##### Calcule os coeficientes da regessão."
   ]
  },
  {
   "cell_type": "code",
   "execution_count": 1,
   "id": "72368c47-3519-48e0-babf-e907539116bb",
   "metadata": {},
   "outputs": [
    {
     "name": "stdout",
     "output_type": "stream",
     "text": [
      "[1.87272727 1.69090909 1.09090909]\n"
     ]
    }
   ],
   "source": [
    "import numpy as np\n",
    "\n",
    "# Dados fornecidos\n",
    "X = np.array([[1, 0, 1],\n",
    "              [1, 1, 2],\n",
    "              [1, 2, 2],\n",
    "              [1, 3, 1],\n",
    "              [1, 4, 2]])\n",
    "y = np.array([3, 6, 7, 8, 11])\n",
    "\n",
    "# Resolvendo a equação normal para mínimos quadrados\n",
    "beta = np.linalg.inv(X.T @ X) @ X.T @ y\n",
    "print(beta)\n"
   ]
  },
  {
   "cell_type": "markdown",
   "id": "ce721507-32f7-44f6-923b-f19358dc1775",
   "metadata": {},
   "source": [
    "Portanto os coeficientes são 1.87, 1.69, e 1.09, resultando em y=1.87+1.69x1+1.09x2"
   ]
  },
  {
   "cell_type": "markdown",
   "id": "7585c884-e226-484c-8e22-5e8871f5d27c",
   "metadata": {},
   "source": [
    "#### Questão 02\n",
    "##### Explique a necessidade de se utilizar conjuntos de dados separados para treinamento e para testes em algoritmos de aprendizado de máquina."
   ]
  },
  {
   "cell_type": "markdown",
   "id": "807c815d-4e89-47c5-9b57-f798b4709021",
   "metadata": {},
   "source": [
    "Pois se não houver a separação, o algoritmo provavelmente terá uma generalização muito ruim. Ele irá aprender dados que são específicos do conjunto de treino e tentar reproduzí-los em outra situação. Assim, ele terá um desempenho ruim em dados novos. Isso se chama overfitting."
   ]
  },
  {
   "cell_type": "markdown",
   "id": "feb52422-3827-4600-86e4-621ea0459632",
   "metadata": {},
   "source": [
    "#### Questão 03\n",
    "##### Explique o papel da épocas de treinamento em um algoritmo de aprendizado de máquina."
   ]
  },
  {
   "cell_type": "markdown",
   "id": "6b6d53a7-f0cb-4245-a7e5-023b522e918b",
   "metadata": {},
   "source": [
    "As épocas são o número de vezes em que o algoritmo percorre o conjunto de dados completamente. Cada época corresponde a uma iteração onde o modelo ajusta seus pesos com base nos erros cometidos nas previsões. As épocas precisam ser numerosas o bastante para garantir que o modelo convirja, mas épocas demais abre o risco de overfitting."
   ]
  },
  {
   "cell_type": "markdown",
   "id": "313fea75-f622-4359-aac7-c8df0b46c597",
   "metadata": {},
   "source": [
    "#### Questão 04\n",
    "##### Os seguintes dados (circulos claros) formam um conjunto de dados onde deseja-se descobrir dois agrupamentos. Para esta tarefa foi utilizado o algoritmo k-médias.  \n",
    "##### Inicializando o algoritmo nos centróides representados pelos círculos escuros, esboce a posição final destes centróides, determine os dados pertencentes a cada cluster e explique se o resultado foi satisfatório."
   ]
  },
  {
   "cell_type": "markdown",
   "id": "60ae1017-b634-43d5-9e4d-fc6ebe311822",
   "metadata": {},
   "source": [
    "<img src=\"Lista03img.jpg\" width=479 height=500 />"
   ]
  },
  {
   "cell_type": "markdown",
   "id": "a21182f9-f06f-4b25-a887-fdf1ac467a5a",
   "metadata": {},
   "source": [
    "Podemos perceber pelas cores que o ponto à direita pertencia ao cluster de cima, porém ele acabou classificado sozinho com o centroide da direita, enquanto que o cluster azul e o resto do cluster verde foram classificados juntos pelo centroide da esquerda. O resultado é insatisfatório. Isso ocorre pois o algoritmo assinala os pontos mais próximos de cada centroide a esse centroide e então recalcula a posição dos centroides, até que eles não se movam mais. Desse jeito, se um centroide estiver perto demais de um outlier e o outro mais próximo dos pontos de interesse, esse centroide pode acabar capturado por esse outlier, como aconteceu nesse exemplo. Se os centroides tivessem sido inicializados em uma posição mais favorável, o resultado poderia ter sido melhor."
   ]
  },
  {
   "cell_type": "markdown",
   "id": "8bdb6e3b-9d23-49d8-8a44-4259e7104642",
   "metadata": {},
   "source": [
    "#### Questão 05\n",
    "##### Deseja-se classificar o dado representado pelo quadrado em uma das classes (círculos claros e escuros) e para isto optou-se pelo uso do k-nn. Determine a classificação deste dado para k = 1, k = 3, k = 5 e k = 7."
   ]
  },
  {
   "cell_type": "markdown",
   "id": "143de0ee-1350-4cc1-ae08-f80c4c34cab3",
   "metadata": {},
   "source": [
    "- K = 1: Ele será classificado como claro, pois o vizinho mais próximo a ele é claro.\n",
    "- K = 3: Ainda será classificado como claro, pois 2 dos 3 vizinhos mais próximos a ele são claros.\n",
    "- K = 5: Agora ele será classificado como escuro, pois 3 dos 5 vizinhos mais próximos a ele são escuros.\n",
    "- K = 7: Ainda será classificado como escuro, pois 4 dos 7 vizinhos mais próximos a ele são escuros."
   ]
  },
  {
   "cell_type": "markdown",
   "id": "180ae072-3d24-47d2-b672-d44388087029",
   "metadata": {},
   "source": [
    "#### Questão 06\n",
    "##### Esboçar o dendrograma utilizando a distância euclidiana para os seguintes dados: *dados*"
   ]
  },
  {
   "cell_type": "code",
   "execution_count": 3,
   "id": "f6c4df5d-2c3e-49c5-9bae-87d473213930",
   "metadata": {},
   "outputs": [
    {
     "data": {
      "image/png": "[encoded data removed]",
      "text/plain": [
       "<Figure size 1000x600 with 1 Axes>"
      ]
     },
     "metadata": {},
     "output_type": "display_data"
    }
   ],
   "source": [
    "import matplotlib.pyplot as plt\n",
    "from scipy.cluster.hierarchy import dendrogram, linkage\n",
    "\n",
    "# Dados\n",
    "data = np.array([[-3, 0],\n",
    "                 [-3, 2],\n",
    "                 [-3, -2],\n",
    "                 [1, 4],\n",
    "                 [2, 2],\n",
    "                 [2, -2],\n",
    "                 [2, -3],\n",
    "                 [3, 4],\n",
    "                 [3, 2],\n",
    "                 [4, -1],\n",
    "                 [4, -3]])\n",
    "\n",
    "# Aplicando o método de ligação para calcular as distâncias\n",
    "Z = linkage(data, method='ward', metric='euclidean')\n",
    "\n",
    "# Plotando o dendrograma\n",
    "plt.figure(figsize=(10, 6))\n",
    "dendrogram(Z, labels=[f\"({x1},{x2})\" for x1, x2 in data])\n",
    "plt.title(\"Dendrograma - Distância Euclidiana\")\n",
    "plt.xlabel(\"Pontos de Dados\")\n",
    "plt.ylabel(\"Distância Euclidiana\")\n",
    "plt.grid(True)\n",
    "plt.show()\n"
   ]
  },
  {
   "cell_type": "code",
   "execution_count": null,
   "id": "c52c7c96-0807-4314-a50b-352559492a3f",
   "metadata": {},
   "outputs": [],
   "source": []
  }
 ],
 "metadata": {
  "kernelspec": {
   "display_name": "Python 3 (ipykernel)",
   "language": "python",
   "name": "python3"
  },
  "language_info": {
   "codemirror_mode": {
    "name": "ipython",
    "version": 3
   },
   "file_extension": ".py",
   "mimetype": "text/x-python",
   "name": "python",
   "nbconvert_exporter": "python",
   "pygments_lexer": "ipython3",
   "version": "3.12.0"
  }
 },
 "nbformat": 4,
 "nbformat_minor": 5
}
