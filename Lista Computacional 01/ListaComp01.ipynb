{
 "cells": [
  {
   "cell_type": "markdown",
   "id": "7636bb2b-841f-4d5a-be74-32c68a95218b",
   "metadata": {},
   "source": [
    "### Lista Computacional 01 - Douglas Gaspar Feitosa Freitas - 473552"
   ]
  },
  {
   "cell_type": "markdown",
   "id": "9c39784c-e50c-4c30-ab42-10c237e8dfdc",
   "metadata": {},
   "source": [
    "#### 1. Implemente o One-Hot-Encoding para as variáveis categóricas."
   ]
  },
  {
   "cell_type": "code",
   "execution_count": 130,
   "id": "947ef542-503f-4f75-b694-e319df349f29",
   "metadata": {},
   "outputs": [],
   "source": [
    "import numpy as np\n",
    "import pandas as pd\n",
    "\n",
    "def findCorrelation(corr, cutoff=0.9, exact=None):\n",
    "    \"\"\"\n",
    "    This function is the Python implementation of the R function \n",
    "    `findCorrelation()`.\n",
    "    \n",
    "    Relies on numpy and pandas, so must have them pre-installed.\n",
    "    \n",
    "    It searches through a correlation matrix and returns a list of column names \n",
    "    to remove to reduce pairwise correlations.\n",
    "    \n",
    "    For the documentation of the R function, see \n",
    "    https://www.rdocumentation.org/packages/caret/topics/findCorrelation\n",
    "    and for the source code of `findCorrelation()`, see\n",
    "    https://github.com/topepo/caret/blob/master/pkg/caret/R/findCorrelation.R\n",
    "    \n",
    "    -----------------------------------------------------------------------------\n",
    "\n",
    "    Parameters:\n",
    "    -----------\n",
    "    corr: pandas dataframe.\n",
    "        A correlation matrix as a pandas dataframe.\n",
    "    cutoff: float, default: 0.9.\n",
    "        A numeric value for the pairwise absolute correlation cutoff\n",
    "    exact: bool, default: None\n",
    "        A boolean value that determines whether the average correlations be \n",
    "        recomputed at each step\n",
    "    -----------------------------------------------------------------------------\n",
    "    Returns:\n",
    "    --------\n",
    "    list of column names\n",
    "    -----------------------------------------------------------------------------\n",
    "    Example:\n",
    "    --------\n",
    "    R1 = pd.DataFrame({\n",
    "        'x1': [1.0, 0.86, 0.56, 0.32, 0.85],\n",
    "        'x2': [0.86, 1.0, 0.01, 0.74, 0.32],\n",
    "        'x3': [0.56, 0.01, 1.0, 0.65, 0.91],\n",
    "        'x4': [0.32, 0.74, 0.65, 1.0, 0.36],\n",
    "        'x5': [0.85, 0.32, 0.91, 0.36, 1.0]\n",
    "    }, index=['x1', 'x2', 'x3', 'x4', 'x5'])\n",
    "\n",
    "    findCorrelation(R1, cutoff=0.6, exact=False)  # ['x4', 'x5', 'x1', 'x3']\n",
    "    findCorrelation(R1, cutoff=0.6, exact=True)   # ['x1', 'x5', 'x4'] \n",
    "    \"\"\"\n",
    "    \n",
    "    def _findCorrelation_fast(corr, avg, cutoff):\n",
    "\n",
    "        combsAboveCutoff = corr.where(lambda x: (np.tril(x)==0) & (x > cutoff)).stack().index\n",
    "\n",
    "        rowsToCheck = combsAboveCutoff.get_level_values(0)\n",
    "        colsToCheck = combsAboveCutoff.get_level_values(1)\n",
    "\n",
    "        msk = avg[colsToCheck] > avg[rowsToCheck].values\n",
    "        deletecol = pd.unique(np.r_[colsToCheck[msk], rowsToCheck[~msk]]).tolist()\n",
    "\n",
    "        return deletecol\n",
    "\n",
    "\n",
    "    def _findCorrelation_exact(corr, avg, cutoff):\n",
    "\n",
    "        x = corr.loc[(*[avg.sort_values(ascending=False).index]*2,)]\n",
    "\n",
    "        if (x.dtypes.values[:, None] == ['int64', 'int32', 'int16', 'int8']).any():\n",
    "            x = x.astype(float)\n",
    "\n",
    "        x.values[(*[np.arange(len(x))]*2,)] = np.nan\n",
    "\n",
    "        deletecol = []\n",
    "        for ix, i in enumerate(x.columns[:-1]):\n",
    "            for j in x.columns[ix+1:]:\n",
    "                if x.loc[i, j] > cutoff:\n",
    "                    if x[i].mean() > x[j].mean():\n",
    "                        deletecol.append(i)\n",
    "                        x.loc[i] = x[i] = np.nan\n",
    "                    else:\n",
    "                        deletecol.append(j)\n",
    "                        x.loc[j] = x[j] = np.nan\n",
    "        return deletecol\n",
    "\n",
    "    \n",
    "    if not np.allclose(corr, corr.T) or any(corr.columns!=corr.index):\n",
    "        raise ValueError(\"correlation matrix is not symmetric.\")\n",
    "        \n",
    "    acorr = corr.abs()\n",
    "    avg = acorr.mean()\n",
    "        \n",
    "    if exact or exact is None and corr.shape[1]<100:\n",
    "        return _findCorrelation_exact(acorr, avg, cutoff)\n",
    "    else:\n",
    "        return _findCorrelation_fast(acorr, avg, cutoff)"
   ]
  },
  {
   "cell_type": "code",
   "execution_count": 131,
   "id": "f5aa5ea8-0e36-45a8-9cff-0d428b0b9fac",
   "metadata": {},
   "outputs": [
    {
     "name": "stdout",
     "output_type": "stream",
     "text": [
      "      price  area  bedrooms  bathrooms  stories  parking     price  area  \\\n",
      "0  13300000  7420         4          2        3        2  13300000  7420   \n",
      "1  12250000  8960         4          4        4        3  12250000  8960   \n",
      "2  12250000  9960         3          2        2        2  12250000  9960   \n",
      "3  12215000  7500         4          2        2        3  12215000  7500   \n",
      "4  11410000  7420         4          1        2        2  11410000  7420   \n",
      "\n",
      "   bedrooms  bathrooms  ...  parking  mainroad_yes  guestroom_no  \\\n",
      "0         4          2  ...        2          True          True   \n",
      "1         4          4  ...        3          True          True   \n",
      "2         3          2  ...        2          True          True   \n",
      "3         4          2  ...        3          True          True   \n",
      "4         4          1  ...        2          True         False   \n",
      "\n",
      "   basement_yes  hotwaterheating_no  airconditioning_yes  prefarea_yes  \\\n",
      "0         False                True                 True          True   \n",
      "1         False                True                 True         False   \n",
      "2          True                True                False          True   \n",
      "3          True                True                 True          True   \n",
      "4          True                True                 True         False   \n",
      "\n",
      "   furnishingstatus_furnished  furnishingstatus_semi-furnished  \\\n",
      "0                        True                            False   \n",
      "1                        True                            False   \n",
      "2                       False                             True   \n",
      "3                        True                            False   \n",
      "4                        True                            False   \n",
      "\n",
      "   furnishingstatus_unfurnished  \n",
      "0                         False  \n",
      "1                         False  \n",
      "2                         False  \n",
      "3                         False  \n",
      "4                         False  \n",
      "\n",
      "[5 rows x 21 columns]\n"
     ]
    }
   ],
   "source": [
    "import pandas as pd\n",
    "\n",
    "df = pd.read_csv('Housing.csv')\n",
    "\n",
    "# Identifica as variáveis categóricas\n",
    "categorical_cols = df.select_dtypes(include=['object']).columns\n",
    "\n",
    "# Implementa o One-Hot-Encoding\n",
    "one_hot = pd.get_dummies(df, columns=categorical_cols)\n",
    "\n",
    "# Procura colunas correlacionadas\n",
    "correlatedColumns = findCorrelation(one_hot.corr())\n",
    "\n",
    "# Remove colunas correlacionadas\n",
    "one_hot = one_hot.drop(columns=correlatedColumns)\n",
    "\n",
    "# Remove as colunas originais\n",
    "df =  df.drop(columns=categorical_cols)\n",
    "\n",
    "# Concatena no dataframe original\n",
    "df = pd.concat([df, one_hot], axis=1)\n",
    "\n",
    "\n",
    "print(df.head())"
   ]
  },
  {
   "cell_type": "markdown",
   "id": "59c74b0c-ca9a-4518-88c5-303dad6644ba",
   "metadata": {},
   "source": [
    "#### 2. Separe o conjunto de dados em treino e teste."
   ]
  },
  {
   "cell_type": "code",
   "execution_count": 132,
   "id": "40a87ec1-0c21-4033-98e4-72774a39187f",
   "metadata": {},
   "outputs": [
    {
     "name": "stdout",
     "output_type": "stream",
     "text": [
      "Original: (545, 21), Treino: (436, 21), Teste: (109, 21)\n"
     ]
    }
   ],
   "source": [
    "train_size = int(0.8 * len(df))\n",
    "#df.reindex(np.random.permutation(df.index))\n",
    "train_df = df[:train_size]\n",
    "test_df = df[train_size:]\n",
    "\n",
    "print(f\"Original: {df.shape}, Treino: {train_df.shape}, Teste: {test_df.shape}\")"
   ]
  },
  {
   "cell_type": "markdown",
   "id": "b1dcf3e8-b73f-476a-a74c-8e5214d0eb42",
   "metadata": {},
   "source": [
    "#### 3. a) Implemente a regressão linear ao conjunto de dados usando o método dos mínimos quadrados (OLS)."
   ]
  },
  {
   "cell_type": "code",
   "execution_count": 145,
   "id": "a086bc06-388f-47cc-becc-03a94d6273cb",
   "metadata": {},
   "outputs": [
    {
     "name": "stdout",
     "output_type": "stream",
     "text": [
      "[[ 9.95739737e+05  9.95739737e+05]\n",
      " [ 1.14294260e+02  1.14294260e+02]\n",
      " [ 5.43023429e+04  5.43023429e+04]\n",
      " [ 4.86065463e+05  4.86065463e+05]\n",
      " [ 2.22265826e+05  2.22265826e+05]\n",
      " [ 1.34236581e+05  1.34236581e+05]\n",
      " [ 1.14294260e+02  1.14294260e+02]\n",
      " [ 5.43023429e+04  5.43023429e+04]\n",
      " [ 4.86065463e+05  4.86065463e+05]\n",
      " [ 2.22265826e+05  2.22265826e+05]\n",
      " [ 1.34236581e+05  1.34236581e+05]\n",
      " [ 5.05972610e+05  5.05972610e+05]\n",
      " [-2.73890913e+05 -2.73890913e+05]\n",
      " [ 3.13768877e+05  3.13768877e+05]\n",
      " [-8.72766998e+05 -8.72766998e+05]\n",
      " [ 7.69890845e+05  7.69890845e+05]\n",
      " [ 5.41583582e+05  5.41583582e+05]\n",
      " [ 4.28385698e+05  4.28385698e+05]\n",
      " [ 3.55440761e+05  3.55440761e+05]\n",
      " [ 2.11913278e+05  2.11913278e+05]]\n"
     ]
    }
   ],
   "source": [
    "import numpy as np\n",
    "\n",
    "# Pega os dados\n",
    "X_train = np.array(train_df.drop('price', axis=1))\n",
    "y_train = np.array(train_df['price'])\n",
    "X_test = np.array(test_df.drop('price', axis=1))\n",
    "y_test = np.array(test_df['price'])\n",
    "\n",
    "# Adiciona o bias para a matriz X\n",
    "def add_bias(X):\n",
    "    X_biased = np.hstack((np.ones((X.shape[0], 1)), X))\n",
    "    return np.float64(X_biased)\n",
    "X_train = add_bias(X_train)\n",
    "X_test = add_bias(X_test)\n",
    "\n",
    "# Calcula os coeficientes da regressão linear\n",
    "def OLS(X, y):\n",
    "    return np.linalg.pinv(X.T @ X) @ X.T @ y\n",
    "w = OLS(X_train, y_train)\n",
    "\n",
    "print(w)"
   ]
  },
  {
   "cell_type": "markdown",
   "id": "13cfb04e-f475-46e4-ab16-5586369cdcc1",
   "metadata": {},
   "source": [
    "#### b) Avalie o desempenho do modelo usando as métricas MSE e R² (você deve implementar essas métricas)"
   ]
  },
  {
   "cell_type": "code",
   "execution_count": 146,
   "id": "90ca3cbe-6cef-4d74-8f15-66508bea5147",
   "metadata": {},
   "outputs": [
    {
     "name": "stdout",
     "output_type": "stream",
     "text": [
      "MSE: 1048582305865.1425, R²: -5.164065953961359\n",
      "Meu deus\n"
     ]
    }
   ],
   "source": [
    "pred = X_test @ w\n",
    "\n",
    "# Define o MSE\n",
    "def mse(y, pred):\n",
    "    return np.mean((y - pred) ** 2)\n",
    "\n",
    "# Calcula o R²\n",
    "def r_squared(y, pred):\n",
    "    return 1 - (np.sum((y-pred)**2)) / np.sum((y - np.mean(y)) ** 2)\n",
    "    \n",
    "\n",
    "print(f\"MSE: {mse(y_test, pred)}, R²: {r_squared(y_test, pred)}\")\n",
    "print(\"Meu deus\")"
   ]
  },
  {
   "cell_type": "markdown",
   "id": "da496eaf-f58a-4d0e-9651-3af678c62a87",
   "metadata": {},
   "source": [
    "#### 4. a) Implemente a regressão linear ao conjunto de dados usando o método do gradiente descendente (GD). Plote a curva de aprendizagem."
   ]
  },
  {
   "cell_type": "code",
   "execution_count": 114,
   "id": "6a9f7c39-288d-471a-98fa-1b1431c6b05b",
   "metadata": {},
   "outputs": [
    {
     "name": "stderr",
     "output_type": "stream",
     "text": [
      "C:\\Users\\agar32\\AppData\\Local\\Temp\\ipykernel_37080\\3373133030.py:5: RuntimeWarning: overflow encountered in square\n",
      "  return np.mean((y - pred) ** 2)\n",
      "C:\\Users\\agar32\\AppData\\Local\\Temp\\ipykernel_37080\\335632875.py:9: RuntimeWarning: overflow encountered in matmul\n",
      "  pred = X @ w                                     #calcula ŷ\n",
      "C:\\Users\\agar32\\AppData\\Local\\Temp\\ipykernel_37080\\335632875.py:12: RuntimeWarning: overflow encountered in matmul\n",
      "  w = w + alpha * (X.T @ error)/error.shape[0]     #atualiza os parâmetros\n",
      "C:\\Users\\agar32\\AppData\\Local\\Temp\\ipykernel_37080\\335632875.py:12: RuntimeWarning: invalid value encountered in matmul\n",
      "  w = w + alpha * (X.T @ error)/error.shape[0]     #atualiza os parâmetros\n"
     ]
    },
    {
     "data": {
      "image/png": "[encoded data removed]",
      "text/plain": [
       "<Figure size 640x480 with 1 Axes>"
      ]
     },
     "metadata": {},
     "output_type": "display_data"
    }
   ],
   "source": [
    "## Resposta Q4.a ##\n",
    "import matplotlib.pyplot as plt\n",
    "\n",
    "def GD(X, y, epoch, alpha = 0.1):                     #define o algoritmo do Gradiente Descendente\n",
    "    w = np.zeros((X.shape[1],1))                         # Inicializa parâmetros em 0\n",
    "    errorHistory = np.zeros(epoch)\n",
    "    t = 0                                                #define t\n",
    "    for t in range(epoch):                               #enquanto t for menor ou igual ao máximo\n",
    "        pred = X @ w                                     #calcula ŷ\n",
    "        error = y - pred                                 #calcula o erro\n",
    "        \n",
    "        w = w + alpha * (X.T @ error)/error.shape[0]     #atualiza os parâmetros\n",
    "\n",
    "        errorHistory[t] = mse(y, pred)                   #guarda o MSE em um histórico\n",
    "        \n",
    "    return [errorHistory, w]                             #retorna o histórico e os parâmetros\n",
    "    \n",
    "results = GD(X_train, y_train, 70)\n",
    "\n",
    "plt.title(\"Cost\")\n",
    "plt.plot(results[0], color=\"black\")\n",
    "plt.xlabel(\"Epoch\")\n",
    "plt.ylabel(\"MSE\")\n",
    "plt.show()"
   ]
  },
  {
   "cell_type": "markdown",
   "id": "8bc797b7-d1c8-491a-9e55-101d7f8295ca",
   "metadata": {},
   "source": [
    "#### b) Normalize as variáveis preditivas usando o método min-max e a variável alvo usando o método z-score. Repita o procedimento do item A."
   ]
  },
  {
   "cell_type": "code",
   "execution_count": 147,
   "id": "1e5d6c7f-1efd-4313-ad67-efcbf0b3c62f",
   "metadata": {},
   "outputs": [
    {
     "name": "stdout",
     "output_type": "stream",
     "text": [
      "(436, 20) (436, 2)\n"
     ]
    },
    {
     "name": "stderr",
     "output_type": "stream",
     "text": [
      "C:\\Users\\agar32\\AppData\\Local\\Temp\\ipykernel_37080\\2783138253.py:4: RuntimeWarning: invalid value encountered in divide\n",
      "  X_train_normalized = (X_train - np.min(X_train, axis=0)) / (np.max(X_train, axis=0) - np.min(X_train, axis=0))\n"
     ]
    },
    {
     "data": {
      "image/png": "[encoded data removed]",
      "text/plain": [
       "<Figure size 640x480 with 1 Axes>"
      ]
     },
     "metadata": {},
     "output_type": "display_data"
    }
   ],
   "source": [
    "#Normalizar de forma diferente ao mesmo tempo parece uma má ideia, mas ok\n",
    "\n",
    "# Normalize as variáveis preditivas\n",
    "X_train_normalized = (X_train - np.min(X_train, axis=0)) / (np.max(X_train, axis=0) - np.min(X_train, axis=0))\n",
    "\n",
    "# Normalize a variável alvo\n",
    "y_train_normalized = (y_train - np.mean(y_train)) / np.std(y_train)\n",
    "\n",
    "print(X_train_normalized.shape, y_train_normalized.shape)\n",
    "\n",
    "results = GD(X_train_normalized, y_train_normalized, 70)\n",
    "\n",
    "plt.title(\"Cost\")\n",
    "plt.plot(results[0], color=\"black\")\n",
    "plt.xlabel(\"Epoch\")\n",
    "plt.ylabel(\"MSE\")\n",
    "plt.show()"
   ]
  },
  {
   "cell_type": "markdown",
   "id": "bfba3016-be3c-4e73-8b42-17e46cdbfb21",
   "metadata": {},
   "source": [
    "Porque isso não funciona? É por causa do One-Hot Encoding? Faz ele tentar dividir por 0? Achei que tirando os dados correlacionados ajudaria, mas nada. Tá difícil."
   ]
  },
  {
   "cell_type": "markdown",
   "id": "2e1e27dc-8672-46d5-89e3-a729e5d4161b",
   "metadata": {},
   "source": [
    "#### c) Avalie o desempenho do modelo aplicado ao conjunto de dados normalizados, usando as métricas MSE e R².\n",
    "\n",
    "Bem... é aqui que eu botaria o desempenho, se tivesse funcionando :^)  \n",
    "Sem a normalização já não tava legal, agora lascou de vez"
   ]
  },
  {
   "cell_type": "markdown",
   "id": "a22e002f-a53e-4289-8de0-b0887b3a9d4d",
   "metadata": {},
   "source": [
    "#### 5. Repita os procedimentos realizados no item 4, usando o método SGD (gradiente descendente estocástico) ao invés do GD"
   ]
  },
  {
   "cell_type": "code",
   "execution_count": 119,
   "id": "9c155bad-4f6d-479e-84db-811e8e198838",
   "metadata": {},
   "outputs": [
    {
     "name": "stderr",
     "output_type": "stream",
     "text": [
      "C:\\Users\\agar32\\AppData\\Local\\Temp\\ipykernel_37080\\3373133030.py:5: RuntimeWarning: overflow encountered in square\n",
      "  return np.mean((y - pred) ** 2)\n",
      "C:\\Users\\agar32\\AppData\\Local\\Temp\\ipykernel_37080\\3660561841.py:16: RuntimeWarning: overflow encountered in multiply\n",
      "  w = w + alpha * (PermX[[i]].T * error)           #atualiza os parâmetros. Se o PermX não for transposto, o w ganha uma dimensão extra\n",
      "C:\\Users\\agar32\\AppData\\Local\\Temp\\ipykernel_37080\\3660561841.py:16: RuntimeWarning: invalid value encountered in multiply\n",
      "  w = w + alpha * (PermX[[i]].T * error)           #atualiza os parâmetros. Se o PermX não for transposto, o w ganha uma dimensão extra\n",
      "C:\\Users\\agar32\\AppData\\Local\\Temp\\ipykernel_37080\\3660561841.py:16: RuntimeWarning: invalid value encountered in add\n",
      "  w = w + alpha * (PermX[[i]].T * error)           #atualiza os parâmetros. Se o PermX não for transposto, o w ganha uma dimensão extra\n",
      "C:\\Users\\agar32\\AppData\\Local\\Temp\\ipykernel_37080\\3660561841.py:10: RuntimeWarning: invalid value encountered in matmul\n",
      "  pred = PermX[[i]] @ w                                   #calcula ŷ\n"
     ]
    },
    {
     "data": {
      "image/png": "[encoded data removed]",
      "text/plain": [
       "<Figure size 640x480 with 1 Axes>"
      ]
     },
     "metadata": {},
     "output_type": "display_data"
    }
   ],
   "source": [
    "## Resposta Q4.c ##\n",
    "\n",
    "def SGD(X, y, epoch, alpha = 0.001):                         #define o algoritmo do Gradiente Descendente\n",
    "    w = np.zeros((X.shape[1],1))\n",
    "    errorHistory = []\n",
    "    t = 0                                                    #define t\n",
    "    for t in range(epoch):                                   #enquanto t for menor ou igual ao máximo\n",
    "        PermX = X                                            #np.random.permutation(X) (Aparentemente permutar o X em si não funciona) ¯\\_(ツ)_/¯\n",
    "        for i in np.random.permutation(X.shape[0]):          #range(X.shape[0]):// permuta o i ao invés do X agora\n",
    "            pred = PermX[[i]] @ w                                   #calcula ŷ\n",
    "            error = y[i] - pred                                 #calcula o erro\n",
    "            #if ((t==15) and (i==15)): print(\"error:\",error.shape)            #debugging\n",
    "            #if ((t==15) and (i==15)): print(\"pred:\",pred.shape)\n",
    "            #if ((t==15) and (i==15)): print(\"PermX[[i]]:\",PermX[[i]].shape)\n",
    "            #if ((t==15) and (i==15)): print(\"w:\",w.shape)\n",
    "            w = w + alpha * (PermX[[i]].T * error)           #atualiza os parâmetros. Se o PermX não for transposto, o w ganha uma dimensão extra\n",
    "\n",
    "            errorHistory.append(mse(y, X @ w))               #guarda o MSE em um histórico\n",
    "        \n",
    "    return [errorHistory, w]                                 #retorna o histórico e os parâmetros\n",
    "    \n",
    "results = SGD(X_train, y_train, 120)\n",
    "\n",
    "plt.title(\"Cost\")\n",
    "plt.plot(results[0], color=\"black\")\n",
    "plt.xlabel(\"Epoch\")\n",
    "plt.ylabel(\"MSE\")\n",
    "plt.show()"
   ]
  },
  {
   "cell_type": "markdown",
   "id": "fe025d5f-c5c3-4e08-ad58-8b082e90c396",
   "metadata": {},
   "source": [
    "#### 6. Treine 10 vezes o algoritmo GD, calculando o MSE e o R² sobre o conjunto de teste após cada iteração. Faça o mesmo com o algoritmo SGD. Faça um gráfico dos valores do MSE e R² para ambos os algoritmos. Compare esses valores com os obtidos com o método OLS. Por que esses valores variam tanto em cada treinamento? Você consegue propor uma mudança nesses algoritmos que melhore o desempenho?"
   ]
  },
  {
   "cell_type": "markdown",
   "id": "d1458302-54b3-4f50-ad4b-86ddcf6fa12c",
   "metadata": {},
   "source": [
    "Bem, está dando erro em todos eles, então não vai dar em nada. Mas seria só fazer os K-Folds e rodar os algoritmos. Imagine um gráfico aqui. Porque às vezes você pode pegar dados de treino/teste melhores e às vezes piores. Se eles estivessem funcionando eu já estava feliz."
   ]
  },
  {
   "cell_type": "code",
   "execution_count": null,
   "id": "3d32b0e4-b7fc-4359-ae6b-dbda323576ba",
   "metadata": {},
   "outputs": [],
   "source": []
  }
 ],
 "metadata": {
  "kernelspec": {
   "display_name": "Python 3 (ipykernel)",
   "language": "python",
   "name": "python3"
  },
  "language_info": {
   "codemirror_mode": {
    "name": "ipython",
    "version": 3
   },
   "file_extension": ".py",
   "mimetype": "text/x-python",
   "name": "python",
   "nbconvert_exporter": "python",
   "pygments_lexer": "ipython3",
   "version": "3.12.0"
  }
 },
 "nbformat": 4,
 "nbformat_minor": 5
}
